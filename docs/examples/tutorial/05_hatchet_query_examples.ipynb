{
 "cells": [
  {
   "cell_type": "code",
   "execution_count": null,
   "metadata": {},
   "outputs": [],
   "source": [
    "import hatchet as ht"
   ]
  },
  {
   "cell_type": "markdown",
   "metadata": {},
   "source": [
    "# Basic Mock Example\n",
    "\n",
    "This basic example uses a mock GraphFrame taken from the testing directory in the Hatchet repo."
   ]
  },
  {
   "cell_type": "markdown",
   "metadata": {},
   "source": [
    "## Generate and Visualize Mock GraphFrame"
   ]
  },
  {
   "cell_type": "code",
   "execution_count": null,
   "metadata": {},
   "outputs": [],
   "source": [
    "# Copied from hatchet/hatchet/tests/conftest.py\n",
    "def mock_graph_literal():\n",
    "    graph_dict = [\n",
    "        {\n",
    "            \"name\": \"foo\",\n",
    "            \"metrics\": {\"time (inc)\": 130.0, \"time\": 0.0},\n",
    "            \"children\": [\n",
    "                {\n",
    "                    \"name\": \"bar\",\n",
    "                    \"metrics\": {\"time (inc)\": 20.0, \"time\": 5.0},\n",
    "                    \"children\": [\n",
    "                        {\"name\": \"baz\", \"metrics\": {\"time (inc)\": 5.0, \"time\": 5.0}},\n",
    "                        {\n",
    "                            \"name\": \"grault\",\n",
    "                            \"metrics\": {\"time (inc)\": 10.0, \"time\": 10.0},\n",
    "                        },\n",
    "                    ],\n",
    "                },\n",
    "                {\n",
    "                    \"name\": \"qux\",\n",
    "                    \"metrics\": {\"time (inc)\": 60.0, \"time\": 0.0},\n",
    "                    \"children\": [\n",
    "                        {\n",
    "                            \"name\": \"quux\",\n",
    "                            \"metrics\": {\"time (inc)\": 60.0, \"time\": 5.0},\n",
    "                            \"children\": [\n",
    "                                {\n",
    "                                    \"name\": \"corge\",\n",
    "                                    \"metrics\": {\"time (inc)\": 55.0, \"time\": 10.0},\n",
    "                                    \"children\": [\n",
    "                                        {\n",
    "                                            \"name\": \"bar\",\n",
    "                                            \"metrics\": {\n",
    "                                                \"time (inc)\": 20.0,\n",
    "                                                \"time\": 5.0,\n",
    "                                            },\n",
    "                                            \"children\": [\n",
    "                                                {\n",
    "                                                    \"name\": \"baz\",\n",
    "                                                    \"metrics\": {\n",
    "                                                        \"time (inc)\": 5.0,\n",
    "                                                        \"time\": 5.0,\n",
    "                                                    },\n",
    "                                                },\n",
    "                                                {\n",
    "                                                    \"name\": \"grault\",\n",
    "                                                    \"metrics\": {\n",
    "                                                        \"time (inc)\": 10.0,\n",
    "                                                        \"time\": 10.0,\n",
    "                                                    },\n",
    "                                                },\n",
    "                                            ],\n",
    "                                        },\n",
    "                                        {\n",
    "                                            \"name\": \"grault\",\n",
    "                                            \"metrics\": {\n",
    "                                                \"time (inc)\": 10.0,\n",
    "                                                \"time\": 10.0,\n",
    "                                            },\n",
    "                                        },\n",
    "                                        {\n",
    "                                            \"name\": \"garply\",\n",
    "                                            \"metrics\": {\n",
    "                                                \"time (inc)\": 15.0,\n",
    "                                                \"time\": 15.0,\n",
    "                                            },\n",
    "                                        },\n",
    "                                    ],\n",
    "                                }\n",
    "                            ],\n",
    "                        }\n",
    "                    ],\n",
    "                },\n",
    "                {\n",
    "                    \"name\": \"waldo\",\n",
    "                    \"metrics\": {\"time (inc)\": 50.0, \"time\": 0.0},\n",
    "                    \"children\": [\n",
    "                        {\n",
    "                            \"name\": \"fred\",\n",
    "                            \"metrics\": {\"time (inc)\": 35.0, \"time\": 5.0},\n",
    "                            \"children\": [\n",
    "                                {\n",
    "                                    \"name\": \"plugh\",\n",
    "                                    \"metrics\": {\"time (inc)\": 5.0, \"time\": 5.0},\n",
    "                                },\n",
    "                                {\n",
    "                                    \"name\": \"xyzzy\",\n",
    "                                    \"metrics\": {\"time (inc)\": 25.0, \"time\": 5.0},\n",
    "                                    \"children\": [\n",
    "                                        {\n",
    "                                            \"name\": \"thud\",\n",
    "                                            \"metrics\": {\n",
    "                                                \"time (inc)\": 25.0,\n",
    "                                                \"time\": 5.0,\n",
    "                                            },\n",
    "                                            \"children\": [\n",
    "                                                {\n",
    "                                                    \"name\": \"baz\",\n",
    "                                                    \"metrics\": {\n",
    "                                                        \"time (inc)\": 5.0,\n",
    "                                                        \"time\": 5.0,\n",
    "                                                    },\n",
    "                                                },\n",
    "                                                {\n",
    "                                                    \"name\": \"garply\",\n",
    "                                                    \"metrics\": {\n",
    "                                                        \"time (inc)\": 15.0,\n",
    "                                                        \"time\": 15.0,\n",
    "                                                    },\n",
    "                                                },\n",
    "                                            ],\n",
    "                                        }\n",
    "                                    ],\n",
    "                                },\n",
    "                            ],\n",
    "                        },\n",
    "                        {\n",
    "                            \"name\": \"garply\",\n",
    "                            \"metrics\": {\"time (inc)\": 15.0, \"time\": 15.0},\n",
    "                        },\n",
    "                    ],\n",
    "                },\n",
    "            ],\n",
    "        },\n",
    "        {\n",
    "            \"name\": \"waldo\",\n",
    "            \"metrics\": {\"time (inc)\": 30.0, \"time\": 10.0},\n",
    "            \"children\": [\n",
    "                {\n",
    "                    \"name\": \"bar\",\n",
    "                    \"metrics\": {\"time (inc)\": 20.0, \"time\": 5.0},\n",
    "                    \"children\": [\n",
    "                        {\"name\": \"baz\", \"metrics\": {\"time (inc)\": 5.0, \"time\": 5.0}},\n",
    "                        {\n",
    "                            \"name\": \"grault\",\n",
    "                            \"metrics\": {\"time (inc)\": 10.0, \"time\": 10.0},\n",
    "                        },\n",
    "                    ],\n",
    "                }\n",
    "            ],\n",
    "        },\n",
    "    ]\n",
    "\n",
    "    return graph_dict"
   ]
  },
  {
   "cell_type": "code",
   "execution_count": null,
   "metadata": {},
   "outputs": [],
   "source": [
    "gf = ht.GraphFrame.from_literal(mock_graph_literal())"
   ]
  },
  {
   "cell_type": "code",
   "execution_count": null,
   "metadata": {
    "scrolled": false
   },
   "outputs": [],
   "source": [
    "print(gf.tree(color=True, metric=\"time (inc)\"))\n",
    "gf.dataframe"
   ]
  },
  {
   "cell_type": "markdown",
   "metadata": {},
   "source": [
    "## Query 1\n",
    "This query matches the following:\n",
    "1. A single node with name \"qux\"\n",
    "2. 0 or more nodes with inclusive time greater than 10\n",
    "3. A single node with name starting with \"gr\" and inclusive time less than or equal to 10"
   ]
  },
  {
   "cell_type": "code",
   "execution_count": null,
   "metadata": {},
   "outputs": [],
   "source": [
    "query = [\n",
    "    {\"name\": \"qux\"},\n",
    "    (\"*\", {\"time (inc)\": \"> 10\"}),\n",
    "    {\"name\": \"gr[a-z]+\", \"time (inc)\": \"<= 10\"}\n",
    "]"
   ]
  },
  {
   "cell_type": "code",
   "execution_count": null,
   "metadata": {},
   "outputs": [],
   "source": [
    "sgf = gf.filter(query, squash=True)\n",
    "print(sgf.tree(color=True, metric=\"time (inc)\"))\n",
    "sgf.dataframe"
   ]
  },
  {
   "cell_type": "markdown",
   "metadata": {},
   "source": [
    "## Query 2\n",
    "This query matches the following:\n",
    "1. A single node with name \"bar\"\n",
    "2. 0 or more nodes with inclusive time greater than 10\n",
    "3. A single node with name starting with \"gr\" and inclusive time less than or equal to 10"
   ]
  },
  {
   "cell_type": "code",
   "execution_count": null,
   "metadata": {},
   "outputs": [],
   "source": [
    "query = [\n",
    "    {\"name\": \"bar\"},\n",
    "    (\"*\", {\"time (inc)\": \"> 50\"}),\n",
    "    {\"name\": \"gr[a-z]+\", \"time (inc)\": \"<= 10\"}\n",
    "]"
   ]
  },
  {
   "cell_type": "code",
   "execution_count": null,
   "metadata": {},
   "outputs": [],
   "source": [
    "sgf = gf.filter(query, squash=True)\n",
    "print(sgf.tree(color=True, metric=\"time (inc)\"))\n",
    "sgf.dataframe"
   ]
  },
  {
   "cell_type": "markdown",
   "metadata": {},
   "source": [
    "## Query 3\n",
    "\n",
    "This query matches the following:\n",
    "1. A single node with name \"waldo\"\n",
    "2. 1 or more of any node\n",
    "3. A single node with an inclusive time >= 20\n",
    "4. 1 or more of any node\n",
    "5. A single node with an exclusive and inclusive time equal to 5"
   ]
  },
  {
   "cell_type": "code",
   "execution_count": null,
   "metadata": {},
   "outputs": [],
   "source": [
    "query = [\n",
    "    {\"name\": \"waldo\"},\n",
    "    \"+\",\n",
    "    {\"time (inc)\": \">= 20.0\"},\n",
    "    \"+\",\n",
    "    {\"time (inc)\": 5.0, \"time\": 5.0}\n",
    "]"
   ]
  },
  {
   "cell_type": "code",
   "execution_count": null,
   "metadata": {},
   "outputs": [],
   "source": [
    "sgf = gf.filter(query, squash=True)\n",
    "print(sgf.tree(color=True, metric=\"time (inc)\"))\n",
    "sgf.dataframe"
   ]
  },
  {
   "cell_type": "markdown",
   "metadata": {},
   "source": [
    "## Query 4\n",
    "\n",
    "This query matches the following:\n",
    "1. A single node with name \"waldo\"\n",
    "2. 1 or more of any node\n",
    "3. A single node with an inclusive time >= 20\n",
    "4. 1 or more of any node\n",
    "5. A single node with an exclusive and inclusive time equal to 7.5\n",
    "\n",
    "This query does not match any node. It should raise an `EmptyFilter` exception."
   ]
  },
  {
   "cell_type": "code",
   "execution_count": null,
   "metadata": {},
   "outputs": [],
   "source": [
    "query = [\n",
    "    {\"name\": \"waldo\"},\n",
    "    \"+\",\n",
    "    {\"time (inc)\": \">= 20.0\"},\n",
    "    \"+\",\n",
    "    {\"time (inc)\": 7.5, \"time\": 7.5}\n",
    "]"
   ]
  },
  {
   "cell_type": "code",
   "execution_count": null,
   "metadata": {},
   "outputs": [],
   "source": [
    "sgf = gf.filter(query, squash=True)\n",
    "print(sgf.tree(color=True, metric=\"time (inc)\"))\n",
    "sgf.dataframe"
   ]
  },
  {
   "cell_type": "markdown",
   "metadata": {},
   "source": [
    "# \"Real-Life\" Example\n",
    "\n",
    "This example uses the `asde/hatchet-sc19-datasets/kripke-mpi/mvapich2.3/hpctoolkit-kripke-database-2589460` database from the SC19 paper."
   ]
  },
  {
   "cell_type": "code",
   "execution_count": null,
   "metadata": {},
   "outputs": [],
   "source": [
    "gf = ht.GraphFrame.from_hpctoolkit(\"../hatchet-sc19-datasets/kripke-mpi/mvapich2.3/hpctoolkit-kripke-database-2589460\")"
   ]
  },
  {
   "cell_type": "code",
   "execution_count": null,
   "metadata": {
    "scrolled": true
   },
   "outputs": [],
   "source": [
    "print(gf.tree(color=True, metric=\"time (inc)\"))\n",
    "gf.dataframe"
   ]
  },
  {
   "cell_type": "code",
   "execution_count": null,
   "metadata": {},
   "outputs": [],
   "source": [
    "gf.drop_index_levels()\n",
    "gf.dataframe"
   ]
  },
  {
   "cell_type": "code",
   "execution_count": null,
   "metadata": {},
   "outputs": [],
   "source": [
    "isinstance(gf.dataframe.iloc[0][\"name\"], str)"
   ]
  },
  {
   "cell_type": "code",
   "execution_count": null,
   "metadata": {},
   "outputs": [],
   "source": [
    "gf.dataframe[gf.dataframe[\"name\"].str.startswith(\"MPI\")]"
   ]
  },
  {
   "cell_type": "markdown",
   "metadata": {},
   "source": [
    "## Query 1"
   ]
  },
  {
   "cell_type": "code",
   "execution_count": null,
   "metadata": {},
   "outputs": [],
   "source": [
    "query = [\n",
    "    \"*\",\n",
    "    {\"name\": \"MPI.*\"},\n",
    "    \"*\"\n",
    "]"
   ]
  },
  {
   "cell_type": "code",
   "execution_count": null,
   "metadata": {},
   "outputs": [],
   "source": [
    "sgf = gf.filter(query, squash=True)\n",
    "print(sgf.tree(color=True, metric=\"time (inc)\"))\n",
    "sgf.dataframe"
   ]
  },
  {
   "cell_type": "code",
   "execution_count": null,
   "metadata": {},
   "outputs": [],
   "source": []
  }
 ],
 "metadata": {
  "kernelspec": {
   "display_name": "My Hatchet Dev Kernel",
   "language": "python",
   "name": "hatchet-dev-kernel"
  },
  "language_info": {
   "codemirror_mode": {
    "name": "ipython",
    "version": 3
   },
   "file_extension": ".py",
   "mimetype": "text/x-python",
   "name": "python",
   "nbconvert_exporter": "python",
   "pygments_lexer": "ipython3",
   "version": "3.7.2"
  }
 },
 "nbformat": 4,
 "nbformat_minor": 2
}
