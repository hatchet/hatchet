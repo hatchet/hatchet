{
 "cells": [
  {
   "cell_type": "code",
   "execution_count": null,
   "metadata": {},
   "outputs": [],
   "source": [
    "import sys\n",
    "from IPython.display import HTML, display\n",
    "\n",
    "import hatchet as ht"
   ]
  },
  {
   "cell_type": "markdown",
   "metadata": {},
   "source": [
    "# Basic Mock Example\n",
    "\n",
    "This basic example uses a mock GraphFrame taken from the testing directory in the Hatchet repo."
   ]
  },
  {
   "cell_type": "markdown",
   "metadata": {},
   "source": [
    "## Generate and Visualize Mock GraphFrame"
   ]
  },
  {
   "cell_type": "code",
   "execution_count": null,
   "metadata": {},
   "outputs": [],
   "source": [
    "# Copied from hatchet/hatchet/tests/conftest.py\n",
    "def mock_graph_literal():\n",
    "    graph_dict = [\n",
    "        {\n",
    "            \"frame\": {\"name\": \"foo\", \"type\": \"function\"},\n",
    "            \"metrics\": {\"time (inc)\": 135.0, \"time\": 0.0},\n",
    "            \"children\": [\n",
    "                {\n",
    "                    \"frame\": {\"name\": \"bar\", \"type\": \"function\"},\n",
    "                    \"metrics\": {\"time (inc)\": 20.0, \"time\": 5.0},\n",
    "                    \"children\": [\n",
    "                        {\n",
    "                            \"frame\": {\"name\": \"baz\", \"type\": \"function\"},\n",
    "                            \"metrics\": {\"time (inc)\": 5.0, \"time\": 5.0}\n",
    "                        },\n",
    "                        {\n",
    "                            \"frame\": {\"name\": \"grault\", \"type\": \"function\"},\n",
    "                            \"metrics\": {\"time (inc)\": 10.0, \"time\": 10.0},\n",
    "                        },\n",
    "                    ],\n",
    "                },\n",
    "                {\n",
    "                    \"frame\": {\"name\": \"qux\", \"type\": \"function\"},\n",
    "                    \"metrics\": {\"time (inc)\": 60.0, \"time\": 0.0},\n",
    "                    \"children\": [\n",
    "                        {\n",
    "                            \"frame\": {\"name\": \"quux\", \"type\": \"function\"},\n",
    "                            \"metrics\": {\"time (inc)\": 60.0, \"time\": 5.0},\n",
    "                            \"children\": [\n",
    "                                {\n",
    "                                    \"frame\": {\"name\": \"corge\", \"type\": \"function\"},\n",
    "                                    \"metrics\": {\"time (inc)\": 55.0, \"time\": 10.0},\n",
    "                                    \"children\": [\n",
    "                                        {\n",
    "                                            \"frame\": {\"name\": \"bar\", \"type\": \"function\"},\n",
    "                                            \"metrics\": {\n",
    "                                                \"time (inc)\": 20.0,\n",
    "                                                \"time\": 5.0,\n",
    "                                            },\n",
    "                                            \"children\": [\n",
    "                                                {\n",
    "                                                    \"frame\": {\"name\": \"baz\", \"type\": \"function\"},\n",
    "                                                    \"metrics\": {\n",
    "                                                        \"time (inc)\": 5.0,\n",
    "                                                        \"time\": 5.0,\n",
    "                                                    },\n",
    "                                                },\n",
    "                                                {\n",
    "                                                    \"frame\": {\"name\": \"grault\", \"type\": \"function\"},\n",
    "                                                    \"metrics\": {\n",
    "                                                        \"time (inc)\": 10.0,\n",
    "                                                        \"time\": 10.0,\n",
    "                                                    },\n",
    "                                                },\n",
    "                                            ],\n",
    "                                        },\n",
    "                                        {\n",
    "                                            \"frame\": {\"name\": \"grault\", \"type\": \"function\"},\n",
    "                                            \"metrics\": {\n",
    "                                                \"time (inc)\": 10.0,\n",
    "                                                \"time\": 10.0,\n",
    "                                            },\n",
    "                                        },\n",
    "                                        {\n",
    "                                            \"frame\": {\"name\": \"garply\", \"type\": \"function\"},\n",
    "                                            \"metrics\": {\n",
    "                                                \"time (inc)\": 15.0,\n",
    "                                                \"time\": 15.0,\n",
    "                                            },\n",
    "                                        },\n",
    "                                    ],\n",
    "                                }\n",
    "                            ],\n",
    "                        }\n",
    "                    ],\n",
    "                },\n",
    "                {\n",
    "                    \"frame\": {\"name\": \"waldo\", \"type\": \"function\"},\n",
    "                    \"metrics\": {\"time (inc)\": 55.0, \"time\": 0.0},\n",
    "                    \"children\": [\n",
    "                        {\n",
    "                            \"frame\": {\"name\": \"fred\", \"type\": \"function\"},\n",
    "                            \"metrics\": {\"time (inc)\": 40.0, \"time\": 5.0},\n",
    "                            \"children\": [\n",
    "                                {\n",
    "                                    \"frame\": {\"name\": \"plugh\", \"type\": \"function\"},\n",
    "                                    \"metrics\": {\"time (inc)\": 5.0, \"time\": 5.0},\n",
    "                                },\n",
    "                                {\n",
    "                                    \"frame\": {\"name\": \"xyzzy\", \"type\": \"function\"},\n",
    "                                    \"metrics\": {\"time (inc)\": 30.0, \"time\": 5.0},\n",
    "                                    \"children\": [\n",
    "                                        {\n",
    "                                            \"frame\": {\"name\": \"thud\", \"type\": \"function\"},\n",
    "                                            \"metrics\": {\n",
    "                                                \"time (inc)\": 25.0,\n",
    "                                                \"time\": 5.0,\n",
    "                                            },\n",
    "                                            \"children\": [\n",
    "                                                {\n",
    "                                                    \"frame\": {\"name\": \"baz\", \"type\": \"function\"},\n",
    "                                                    \"metrics\": {\n",
    "                                                        \"time (inc)\": 5.0,\n",
    "                                                        \"time\": 5.0,\n",
    "                                                    },\n",
    "                                                },\n",
    "                                                {\n",
    "                                                    \"frame\": {\"name\": \"garply\", \"type\": \"function\"},\n",
    "                                                    \"metrics\": {\n",
    "                                                        \"time (inc)\": 15.0,\n",
    "                                                        \"time\": 15.0,\n",
    "                                                    },\n",
    "                                                },\n",
    "                                            ],\n",
    "                                        }\n",
    "                                    ],\n",
    "                                },\n",
    "                            ],\n",
    "                        },\n",
    "                        {\n",
    "                            \"frame\": {\"name\": \"garply\", \"type\": \"function\"},\n",
    "                            \"metrics\": {\"time (inc)\": 15.0, \"time\": 15.0},\n",
    "                        },\n",
    "                    ],\n",
    "                },\n",
    "            ],\n",
    "        },\n",
    "        {\n",
    "            \"frame\": {\"name\": \"waldo\", \"type\": \"function\"},\n",
    "            \"metrics\": {\"time (inc)\": 30.0, \"time\": 10.0},\n",
    "            \"children\": [\n",
    "                {\n",
    "                    \"frame\": {\"name\": \"bar\", \"type\": \"function\"},\n",
    "                    \"metrics\": {\"time (inc)\": 20.0, \"time\": 5.0},\n",
    "                    \"children\": [\n",
    "                        {\n",
    "                            \"frame\": {\"name\": \"baz\", \"type\": \"function\"},\n",
    "                            \"metrics\": {\"time (inc)\": 5.0, \"time\": 5.0}\n",
    "                        },\n",
    "                        {\n",
    "                            \"frame\": {\"name\": \"grault\", \"type\": \"function\"},\n",
    "                            \"metrics\": {\"time (inc)\": 10.0, \"time\": 10.0},\n",
    "                        },\n",
    "                    ],\n",
    "                }\n",
    "            ],\n",
    "        },\n",
    "    ]\n",
    "\n",
    "    return graph_dict"
   ]
  },
  {
   "cell_type": "code",
   "execution_count": null,
   "metadata": {},
   "outputs": [],
   "source": [
    "gf = ht.GraphFrame.from_literal(mock_graph_literal())"
   ]
  },
  {
   "cell_type": "code",
   "execution_count": null,
   "metadata": {
    "scrolled": false
   },
   "outputs": [],
   "source": [
    "print(gf.tree(metric_column=\"time (inc)\"))"
   ]
  },
  {
   "cell_type": "code",
   "execution_count": null,
   "metadata": {},
   "outputs": [],
   "source": [
    "display(HTML(gf.dataframe.to_html()))"
   ]
  },
  {
   "cell_type": "markdown",
   "metadata": {},
   "source": [
    "## Query Example #1\n",
    "This query matches the following:\n",
    "1. A single node with name \"qux\"\n",
    "2. 0 or more nodes with inclusive time greater than 10\n",
    "3. A single node with name starting with \"gr\" and inclusive time less than or equal to 10"
   ]
  },
  {
   "cell_type": "code",
   "execution_count": null,
   "metadata": {},
   "outputs": [],
   "source": [
    "query = [\n",
    "    {\"name\": \"qux\"},\n",
    "    (\"*\", {\"time (inc)\": \"> 10\"}),\n",
    "    {\"name\": \"gr[a-z]+\", \"time (inc)\": \"<= 10\"}\n",
    "]"
   ]
  },
  {
   "cell_type": "code",
   "execution_count": null,
   "metadata": {},
   "outputs": [],
   "source": [
    "sgf = gf.filter(query)\n",
    "print(sgf.tree(metric_column=\"time (inc)\"))"
   ]
  },
  {
   "cell_type": "code",
   "execution_count": null,
   "metadata": {},
   "outputs": [],
   "source": [
    "display(HTML(sgf.dataframe.to_html()))"
   ]
  },
  {
   "cell_type": "markdown",
   "metadata": {},
   "source": [
    "## Query Example #2\n",
    "This query matches the following:\n",
    "1. A single node with name \"bar\"\n",
    "2. 0 or more nodes with inclusive time greater than 10\n",
    "3. A single node with name starting with \"gr\" and inclusive time less than or equal to 10"
   ]
  },
  {
   "cell_type": "code",
   "execution_count": null,
   "metadata": {},
   "outputs": [],
   "source": [
    "query = [\n",
    "    {\"name\": \"bar\"},\n",
    "    (\"*\", {\"time (inc)\": \"> 50\"}),\n",
    "    {\"name\": \"gr[a-z]+\", \"time (inc)\": \"<= 10\"}\n",
    "]"
   ]
  },
  {
   "cell_type": "code",
   "execution_count": null,
   "metadata": {},
   "outputs": [],
   "source": [
    "sgf = gf.filter(query)\n",
    "print(sgf.tree(metric_column=\"time (inc)\"))"
   ]
  },
  {
   "cell_type": "code",
   "execution_count": null,
   "metadata": {},
   "outputs": [],
   "source": [
    "display(HTML(sgf.dataframe.to_html()))"
   ]
  },
  {
   "cell_type": "markdown",
   "metadata": {},
   "source": [
    "## Query Example #3\n",
    "\n",
    "This query matches the following:\n",
    "1. A single node with name \"waldo\"\n",
    "2. 1 or more of any node\n",
    "3. A single node with an inclusive time >= 20\n",
    "4. 1 or more of any node\n",
    "5. A single node with an exclusive and inclusive time equal to 5"
   ]
  },
  {
   "cell_type": "code",
   "execution_count": null,
   "metadata": {},
   "outputs": [],
   "source": [
    "query = [\n",
    "    {\"name\": \"waldo\"},\n",
    "    \"+\",\n",
    "    {\"time (inc)\": \">= 20.0\"},\n",
    "    \"+\",\n",
    "    {\"time (inc)\": 5.0, \"time\": 5.0}\n",
    "]"
   ]
  },
  {
   "cell_type": "code",
   "execution_count": null,
   "metadata": {},
   "outputs": [],
   "source": [
    "sgf = gf.filter(query, squash=True)\n",
    "print(sgf.tree(metric_column=\"time (inc)\"))"
   ]
  },
  {
   "cell_type": "code",
   "execution_count": null,
   "metadata": {},
   "outputs": [],
   "source": [
    "display(HTML(sgf.dataframe.to_html()))"
   ]
  },
  {
   "cell_type": "markdown",
   "metadata": {},
   "source": [
    "## Query Example #4\n",
    "\n",
    "This query matches the following:\n",
    "1. A single node with name \"waldo\"\n",
    "2. 1 or more of any node\n",
    "3. A single node with an inclusive time >= 20\n",
    "4. 1 or more of any node\n",
    "5. A single node with an exclusive and inclusive time equal to 7.5\n",
    "\n",
    "This query does not match any node. It should raise an `EmptyFilter` exception."
   ]
  },
  {
   "cell_type": "code",
   "execution_count": null,
   "metadata": {},
   "outputs": [],
   "source": [
    "query = [\n",
    "    {\"name\": \"waldo\"},\n",
    "    \"+\",\n",
    "    {\"time (inc)\": \">= 20.0\"},\n",
    "    \"+\",\n",
    "    {\"time (inc)\": 7.5, \"time\": 7.5}\n",
    "]"
   ]
  },
  {
   "cell_type": "code",
   "execution_count": null,
   "metadata": {},
   "outputs": [],
   "source": [
    "sgf = gf.filter(query)"
   ]
  },
  {
   "cell_type": "markdown",
   "metadata": {},
   "source": [
    "# \"Real-Life\" Example\n",
    "\n",
    "This example uses an HPCToolkit database in `hpctoolkit-cpi-database/` in the `tests/` directory."
   ]
  },
  {
   "cell_type": "code",
   "execution_count": null,
   "metadata": {},
   "outputs": [],
   "source": [
    "gf = ht.GraphFrame.from_hpctoolkit(\"../../..//hatchet/tests/data/hpctoolkit-cpi-database\")"
   ]
  },
  {
   "cell_type": "code",
   "execution_count": null,
   "metadata": {
    "scrolled": true
   },
   "outputs": [],
   "source": [
    "print(gf.tree(metric_column=\"time (inc)\"))"
   ]
  },
  {
   "cell_type": "code",
   "execution_count": null,
   "metadata": {},
   "outputs": [],
   "source": [
    "display(HTML(gf.dataframe.to_html()))"
   ]
  },
  {
   "cell_type": "code",
   "execution_count": null,
   "metadata": {},
   "outputs": [],
   "source": [
    "gf.drop_index_levels()\n",
    "display(HTML(gf.dataframe.to_html()))"
   ]
  },
  {
   "cell_type": "code",
   "execution_count": null,
   "metadata": {},
   "outputs": [],
   "source": [
    "query = [\n",
    "    \"*\",\n",
    "    {\"name\": \"PMPI.*\"},\n",
    "    \"*\"\n",
    "]"
   ]
  },
  {
   "cell_type": "code",
   "execution_count": null,
   "metadata": {},
   "outputs": [],
   "source": [
    "sgf = gf.filter(query)\n",
    "print(sgf.tree(metric_column=\"time (inc)\"))"
   ]
  },
  {
   "cell_type": "code",
   "execution_count": null,
   "metadata": {},
   "outputs": [],
   "source": [
    "display(HTML(sgf.dataframe.to_html()))"
   ]
  }
 ],
 "metadata": {
  "kernelspec": {
   "display_name": "Python 3",
   "language": "python",
   "name": "python3"
  },
  "language_info": {
   "codemirror_mode": {
    "name": "ipython",
    "version": 3
   },
   "file_extension": ".py",
   "mimetype": "text/x-python",
   "name": "python",
   "nbconvert_exporter": "python",
   "pygments_lexer": "ipython3",
   "version": "3.7.2"
  }
 },
 "nbformat": 4,
 "nbformat_minor": 2
}
