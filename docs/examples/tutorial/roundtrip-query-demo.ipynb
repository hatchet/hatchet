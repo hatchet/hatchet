{
 "cells": [
  {
   "cell_type": "markdown",
   "metadata": {},
   "source": [
    "# Roundtrip example\n",
    "\n",
    "This notebook contains 2 examples of call tree visualizations using Roundtrip. The first example shows how to load a string literal tree into Roundtrip, interact with the tree, and retrieve query information based on the selection on the interactive tree."
   ]
  },
  {
   "cell_type": "markdown",
   "metadata": {},
   "source": [
    "## Example 1: Single-rooted tree"
   ]
  },
  {
   "cell_type": "markdown",
   "metadata": {},
   "source": [
    "### Initialize Hatchet GraphFrame of data\n",
    "\n",
    "First we load Hatchet, and os and sys to make path adjustments later."
   ]
  },
  {
   "cell_type": "code",
   "execution_count": null,
   "metadata": {},
   "outputs": [],
   "source": [
    "import hatchet as ht\n",
    "import os, sys"
   ]
  },
  {
   "cell_type": "markdown",
   "metadata": {},
   "source": [
    "Next we define the string-literal version of our call tree. (Future: use Hatchet's `gf.to_literal()` function to convert your graph frame into a dictionary representation, like the one shown)"
   ]
  },
  {
   "cell_type": "code",
   "execution_count": null,
   "metadata": {},
   "outputs": [],
   "source": [
    "small_tree = [\n",
    "{\n",
    "    \"name\": \"foo\",\n",
    "    \"metrics\": {\"time (inc)\": 130.0, \"time\": 0.0},\n",
    "    \"children\": [\n",
    "        {\n",
    "            \"name\": \"bar\",\n",
    "            \"metrics\": {\"time (inc)\": 20.0, \"time\": 5.0},\n",
    "            \"children\": [\n",
    "                {\n",
    "                    \"name\": \"baz\",\n",
    "                    \"metrics\": {\"time (inc)\": 5.0, \"time\": 5.0},\n",
    "                },\n",
    "                {\n",
    "                    \"name\": \"grault\",\n",
    "                    \"metrics\": {\"time (inc)\": 10.0, \"time\": 10.0},\n",
    "                },\n",
    "            ],\n",
    "        },\n",
    "        {\n",
    "            \"name\": \"qux\",\n",
    "            \"metrics\": {\"time (inc)\": 60.0, \"time\": 0.0},\n",
    "            \"children\": [\n",
    "                {\n",
    "                    \"name\": \"quux\",\n",
    "                    \"metrics\": {\"time (inc)\": 60.0, \"time\": 5.0},\n",
    "                    \"children\": [\n",
    "                        {\n",
    "                            \"name\": \"corge\",\n",
    "                            \"metrics\": {\"time (inc)\": 55.0, \"time\": 10.0},\n",
    "                            \"children\": [\n",
    "                                {\n",
    "                                    \"name\": \"bar\",\n",
    "                                    \"metrics\": {\n",
    "                                        \"time (inc)\": 20.0,\n",
    "                                        \"time\": 5.0,\n",
    "                                    },\n",
    "                                    \"children\": [\n",
    "                                        {\n",
    "                                            \"name\": \"baz\",\n",
    "                                            \"metrics\": {\n",
    "                                                \"time (inc)\": 5.0,\n",
    "                                                \"time\": 5.0,\n",
    "                                            },\n",
    "                                        },\n",
    "                                        {\n",
    "                                            \"name\": \"grault\",\n",
    "                                            \"metrics\": {\n",
    "                                                \"time (inc)\": 10.0,\n",
    "                                                \"time\": 10.0,\n",
    "                                            },\n",
    "                                        },\n",
    "                                    ],\n",
    "                                },\n",
    "                                {\n",
    "                                    \"name\": \"grault\",\n",
    "                                    \"metrics\": {\n",
    "                                        \"time (inc)\": 10.0,\n",
    "                                        \"time\": 10.0,\n",
    "                                    },\n",
    "                                },\n",
    "                                {\n",
    "                                    \"name\": \"garply\",\n",
    "                                    \"metrics\": {\n",
    "                                        \"time (inc)\": 15.0,\n",
    "                                        \"time\": 15.0,\n",
    "                                    },\n",
    "                                },\n",
    "                            ],\n",
    "                        }\n",
    "                    ],\n",
    "                }\n",
    "            ],\n",
    "        },\n",
    "    ],\n",
    "}\n",
    "]\n",
    "\n",
    "gf = ht.GraphFrame.from_literal(small_tree)\n",
    "\n",
    "print(gf.dataframe)\n",
    "print(gf.tree())"
   ]
  },
  {
   "cell_type": "markdown",
   "metadata": {},
   "source": [
    "### Load Roundtrip\n",
    "\n",
    "Here we load the IPython extension *Roundtrip*, the Python code that acts as the go-between for the visualization JavaScript and the Python code in the Jupyter notebook.\n",
    "\n",
    "Find the relative path from this notebook to your installation of Hatchet. Roundtrip is located at `path_to_hatchet/hatchet/external/roundtrip/`. "
   ]
  },
  {
   "cell_type": "code",
   "execution_count": null,
   "metadata": {},
   "outputs": [],
   "source": [
    "# This is the relative path from the nb to roundtrip/\n",
    "rt_path = '../../../hatchet/external/roundtrip/'\n",
    "\n",
    "# Add the path so that the notebook can find the Roundtrip extension\n",
    "module_path = os.path.abspath(os.path.join(rt_path)) \n",
    "if module_path not in sys.path:\n",
    "    sys.path.append(module_path)"
   ]
  },
  {
   "cell_type": "code",
   "execution_count": null,
   "metadata": {},
   "outputs": [],
   "source": [
    "%load_ext roundtrip"
   ]
  },
  {
   "cell_type": "markdown",
   "metadata": {},
   "source": [
    "### Load the visualization\n",
    "\n",
    "Next we load the custom visualization from `roundtripTree.js`. The magic function (`%loadVisualization`) and its parameters are listed below:\n",
    "\n",
    "- `%loadVisualization`: Roundtrip function to generate the visualization\n",
    "- `rt_path`: the path to Roundtrip in the Hatchet directory (path ends with `hatchet/external/roundtrip/`)\n",
    "- `small_tree`: the Python variable from cell 3 that holds the tree string literal \n",
    "\n",
    "After the cell is executed, the tree appears. Clicking on a node will cause its metadata to be displayed at the top of the visualization (by the \"Colors\" button). Double-clicking on a node will cause the subtree to collapse. \n",
    "\n",
    "To select a single node, click on it then execute the next cell (`%fetchData`) to retrieve its data. To select many nodes, click the button \"Select nodes\" to activate the brush (to turn off the brush, click \"Select nodes\" again)."
   ]
  },
  {
   "cell_type": "code",
   "execution_count": null,
   "metadata": {},
   "outputs": [],
   "source": [
    "%loadVisualization rt_path small_tree"
   ]
  },
  {
   "cell_type": "markdown",
   "metadata": {},
   "source": [
    "### Retrieve the selection\n",
    "To retrieve the data we have selected in the tree, we use the Roundtrip function `%fetchData`.\n",
    "\n",
    "The parameters below are:\n",
    "- `%fetchData`: the Roundtrip function to pass the selection from JavaScript to Python\n",
    "- `myQuery`: the Python variable name we will use to store our selection\n"
   ]
  },
  {
   "cell_type": "code",
   "execution_count": null,
   "metadata": {},
   "outputs": [],
   "source": [
    "# Execute this cell first (without using myQuery yet)\n",
    "%fetchData myQuery"
   ]
  },
  {
   "cell_type": "code",
   "execution_count": null,
   "metadata": {},
   "outputs": [],
   "source": [
    "# Now myQuery is loaded (after %fetchData executes)\n",
    "print(myQuery, type(myQuery))\n",
    "\n",
    "# If no nodes are clicked, the default behavior is to return all nodes"
   ]
  },
  {
   "cell_type": "markdown",
   "metadata": {},
   "source": [
    "Now filter the graphframe `gf` by the produced query `myQuery`."
   ]
  },
  {
   "cell_type": "code",
   "execution_count": null,
   "metadata": {},
   "outputs": [],
   "source": [
    "sgf = gf.filter(myQuery, squash=True)\n",
    "print(\"Nodes returned:\", len(sgf.graph))\n",
    "print(sgf.tree())"
   ]
  },
  {
   "cell_type": "markdown",
   "metadata": {},
   "source": [
    "## Example 2: Multi-rooted tree\n",
    "\n",
    "The following example uses `multiple_trees`, a call tree representation that has 2 roots: foo and kap."
   ]
  },
  {
   "cell_type": "code",
   "execution_count": null,
   "metadata": {},
   "outputs": [],
   "source": [
    "multiple_trees = [\n",
    "            {\n",
    "                \"name\": \"foo\",\n",
    "                \"metrics\": {\"time (inc)\": 130.0, \"time\": 0.0},\n",
    "                \"children\": [\n",
    "                    {\n",
    "                        \"name\": \"bar\",\n",
    "                        \"metrics\": {\"time (inc)\": 20.0, \"time\": 5.0},\n",
    "                        \"children\": [\n",
    "                            {\n",
    "                                \"name\": \"baz\",\n",
    "                                \"metrics\": {\"time (inc)\": 5.0, \"time\": 5.0},\n",
    "                            },\n",
    "                            {\n",
    "                                \"name\": \"grault\",\n",
    "                                \"metrics\": {\"time (inc)\": 10.0, \"time\": 10.0},\n",
    "                            },\n",
    "                        ],\n",
    "                    },\n",
    "                    {\n",
    "                        \"name\": \"qux\",\n",
    "                        \"metrics\": {\"time (inc)\": 60.0, \"time\": 0.0},\n",
    "                        \"children\": [\n",
    "                            {\n",
    "                                \"name\": \"quux\",\n",
    "                                \"metrics\": {\"time (inc)\": 60.0, \"time\": 5.0},\n",
    "                                \"children\": [\n",
    "                                    {\n",
    "                                        \"name\": \"corge\",\n",
    "                                        \"metrics\": {\"time (inc)\": 55.0, \"time\": 10.0},\n",
    "                                        \"children\": [\n",
    "                                            {\n",
    "                                                \"name\": \"bar\",\n",
    "                                                \"metrics\": {\n",
    "                                                    \"time (inc)\": 20.0,\n",
    "                                                    \"time\": 5.0,\n",
    "                                                },\n",
    "                                                \"children\": [\n",
    "                                                    {\n",
    "                                                        \"name\": \"baz\",\n",
    "                                                        \"metrics\": {\n",
    "                                                            \"time (inc)\": 5.0,\n",
    "                                                            \"time\": 5.0,\n",
    "                                                        },\n",
    "                                                    },\n",
    "                                                    {\n",
    "                                                        \"name\": \"grault\",\n",
    "                                                        \"metrics\": {\n",
    "                                                            \"time (inc)\": 10.0,\n",
    "                                                            \"time\": 10.0,\n",
    "                                                        },\n",
    "                                                    },\n",
    "                                                ],\n",
    "                                            },\n",
    "                                            {\n",
    "                                                \"name\": \"grault\",\n",
    "                                                \"metrics\": {\n",
    "                                                    \"time (inc)\": 10.0,\n",
    "                                                    \"time\": 10.0,\n",
    "                                                },\n",
    "                                            },\n",
    "                                            {\n",
    "                                                \"name\": \"garply\",\n",
    "                                                \"metrics\": {\n",
    "                                                    \"time (inc)\": 15.0,\n",
    "                                                    \"time\": 15.0,\n",
    "                                                },\n",
    "                                            },\n",
    "                                        ],\n",
    "                                    }\n",
    "                                ],\n",
    "                            }\n",
    "                        ],\n",
    "                    },\n",
    "                    {\n",
    "                        \"name\": \"waldo\",\n",
    "                        \"metrics\": {\"time (inc)\": 50.0, \"time\": 0.0},\n",
    "                        \"children\": [\n",
    "                            {\n",
    "                                \"name\": \"fred\",\n",
    "                                \"metrics\": {\"time (inc)\": 35.0, \"time\": 5.0},\n",
    "                                \"children\": [\n",
    "                                    {\n",
    "                                        \"name\": \"plugh\",\n",
    "                                        \"metrics\": {\"time (inc)\": 5.0, \"time\": 5.0},\n",
    "                                    },\n",
    "                                    {\n",
    "                                        \"name\": \"xyzzy\",\n",
    "                                        \"metrics\": {\"time (inc)\": 25.0, \"time\": 5.0},\n",
    "                                        \"children\": [\n",
    "                                            {\n",
    "                                                \"name\": \"thud\",\n",
    "                                                \"metrics\": {\n",
    "                                                    \"time (inc)\": 25.0,\n",
    "                                                    \"time\": 5.0,\n",
    "                                                },\n",
    "                                                \"children\": [\n",
    "                                                    {\n",
    "                                                        \"name\": \"baz\",\n",
    "                                                        \"metrics\": {\n",
    "                                                            \"time (inc)\": 5.0,\n",
    "                                                            \"time\": 5.0,\n",
    "                                                        },\n",
    "                                                    },\n",
    "                                                    {\n",
    "                                                        \"name\": \"garply\",\n",
    "                                                        \"metrics\": {\n",
    "                                                            \"time (inc)\": 15.0,\n",
    "                                                            \"time\": 15.0,\n",
    "                                                        },\n",
    "                                                    },\n",
    "                                                ],\n",
    "                                            }\n",
    "                                        ],\n",
    "                                    },\n",
    "                                ],\n",
    "                            },\n",
    "                            {\n",
    "                                \"name\": \"garply\",\n",
    "                                \"metrics\": {\"time (inc)\": 15.0, \"time\": 15.0},\n",
    "                            },\n",
    "                        ],\n",
    "                    },\n",
    "                ],\n",
    "            },\n",
    "            {\n",
    "                \"name\": \"kap\",\n",
    "                \"metrics\": {\"time (inc)\": 30.0, \"time\": 0.0},\n",
    "                \"children\": [\n",
    "                    {\n",
    "                        \"name\": \"kow\",\n",
    "                        \"metrics\": {\"time (inc)\": 15.0, \"time\": 5.0},\n",
    "                        \"children\": [\n",
    "                            {\n",
    "                                \"name\": \"krazy\",\n",
    "                                \"metrics\": {\"time (inc)\": 5.0, \"time\": 5.0},\n",
    "                            },\n",
    "                            {\n",
    "                                \"name\": \"kraze\",\n",
    "                                \"metrics\": {\"time (inc)\": 5.0, \"time\": 5.0},\n",
    "                            },\n",
    "                        ],\n",
    "                    },\n",
    "                    {\n",
    "                        \"name\": \"kat\",\n",
    "                        \"metrics\": {\"time (inc)\": 15.0, \"time\": 15.0},\n",
    "                    },\n",
    "                ],\n",
    "            }\n",
    "        ]\n",
    "\n",
    "\n",
    "multi_gf = ht.GraphFrame.from_literal(multiple_trees)\n",
    "\n",
    "print(multi_gf.dataframe)\n",
    "print(multi_gf.tree())"
   ]
  },
  {
   "cell_type": "markdown",
   "metadata": {},
   "source": [
    "Upon load, the tree visualization will show all trees and will color them with a unified legend. Trees can be recolored by their individual minimum and maximum by toggling the \"Legends: unified\" button to \"Legends: indiv.\""
   ]
  },
  {
   "cell_type": "code",
   "execution_count": null,
   "metadata": {},
   "outputs": [],
   "source": [
    "%loadVisualization rt_path multiple_trees"
   ]
  },
  {
   "cell_type": "code",
   "execution_count": null,
   "metadata": {},
   "outputs": [],
   "source": [
    "# Execute this cell first (without using myQuery yet)\n",
    "%fetchData anotherQuery"
   ]
  },
  {
   "cell_type": "code",
   "execution_count": null,
   "metadata": {},
   "outputs": [],
   "source": [
    "sgf = multi_gf.filter(anotherQuery, squash=True)\n",
    "print(\"Nodes returned:\", len(sgf.graph))\n",
    "print(sgf.tree())"
   ]
  }
 ],
 "metadata": {
  "kernelspec": {
   "display_name": "Python 3",
   "language": "python",
   "name": "python3"
  },
  "language_info": {
   "codemirror_mode": {
    "name": "ipython",
    "version": 3
   },
   "file_extension": ".py",
   "mimetype": "text/x-python",
   "name": "python",
   "nbconvert_exporter": "python",
   "pygments_lexer": "ipython3",
   "version": "3.7.5"
  }
 },
 "nbformat": 4,
 "nbformat_minor": 4
}
